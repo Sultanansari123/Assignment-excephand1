{
 "cells": [
  {
   "cell_type": "code",
   "execution_count": 1,
   "id": "c4b970a3-080b-4f6b-89f3-980a50afce21",
   "metadata": {},
   "outputs": [],
   "source": [
    "#Ans1-an exception is an event ,which occures during the execution of a program that disrupts the normal flow of the program instruction\n",
    "# an error is an issue in a program that prevents the program from completing this task.\n",
    "#An exception is a condion that intrrupts the normal flow of the programe."
   ]
  },
  {
   "cell_type": "code",
   "execution_count": 2,
   "id": "d13e4bd7-9077-4686-9754-b0e849ee3ee7",
   "metadata": {},
   "outputs": [
    {
     "name": "stdout",
     "output_type": "stream",
     "text": [
      "32.0\n"
     ]
    }
   ],
   "source": [
    "#Ans2-If an exception is not caught ,the runtime system will abort the program i.e crash and an exception message will print to the console.\n",
    "def k_to_f(temp):\n",
    "    assert(temp>=0),\"colder than abslute zero\"\n",
    "    return ((temp-273)*1.8)+32\n",
    "print(k_to_f(273))\n",
    "           "
   ]
  },
  {
   "cell_type": "code",
   "execution_count": 3,
   "id": "69096448-5712-44b1-bb6d-2ed2032003ff",
   "metadata": {},
   "outputs": [
    {
     "ename": "AssertionError",
     "evalue": "colder than abslute zero",
     "output_type": "error",
     "traceback": [
      "\u001b[0;31m---------------------------------------------------------------------------\u001b[0m",
      "\u001b[0;31mAssertionError\u001b[0m                            Traceback (most recent call last)",
      "Cell \u001b[0;32mIn[3], line 1\u001b[0m\n\u001b[0;32m----> 1\u001b[0m \u001b[38;5;28mprint\u001b[39m(\u001b[43mk_to_f\u001b[49m\u001b[43m(\u001b[49m\u001b[38;5;241;43m-\u001b[39;49m\u001b[38;5;241;43m5\u001b[39;49m\u001b[43m)\u001b[49m)\n",
      "Cell \u001b[0;32mIn[2], line 3\u001b[0m, in \u001b[0;36mk_to_f\u001b[0;34m(temp)\u001b[0m\n\u001b[1;32m      2\u001b[0m \u001b[38;5;28;01mdef\u001b[39;00m \u001b[38;5;21mk_to_f\u001b[39m(temp):\n\u001b[0;32m----> 3\u001b[0m     \u001b[38;5;28;01massert\u001b[39;00m(temp\u001b[38;5;241m>\u001b[39m\u001b[38;5;241m=\u001b[39m\u001b[38;5;241m0\u001b[39m),\u001b[38;5;124m\"\u001b[39m\u001b[38;5;124mcolder than abslute zero\u001b[39m\u001b[38;5;124m\"\u001b[39m\n\u001b[1;32m      4\u001b[0m     \u001b[38;5;28;01mreturn\u001b[39;00m ((temp\u001b[38;5;241m-\u001b[39m\u001b[38;5;241m273\u001b[39m)\u001b[38;5;241m*\u001b[39m\u001b[38;5;241m1.8\u001b[39m)\u001b[38;5;241m+\u001b[39m\u001b[38;5;241m32\u001b[39m\n",
      "\u001b[0;31mAssertionError\u001b[0m: colder than abslute zero"
     ]
    }
   ],
   "source": [
    "print(k_to_f(-5))"
   ]
  },
  {
   "cell_type": "code",
   "execution_count": 4,
   "id": "11274c60-7a6a-466e-ae69-5b3aa1f56a85",
   "metadata": {},
   "outputs": [
    {
     "name": "stdout",
     "output_type": "stream",
     "text": [
      "erroe: denominator can't be zero\n"
     ]
    }
   ],
   "source": [
    "#Ans3-the try and except in python is used to catch and handle exceptions.\n",
    "try:\n",
    "    numerator=10\n",
    "    denominator=0\n",
    "    res=numerator/denominator\n",
    "    print(res)\n",
    "except:\n",
    "    print(\"erroe: denominator can't be zero\")\n",
    "    \n"
   ]
  },
  {
   "cell_type": "code",
   "execution_count": 5,
   "id": "6fb97034-67e4-4ce7-ab05-7092278edc86",
   "metadata": {},
   "outputs": [
    {
     "name": "stdout",
     "output_type": "stream",
     "text": [
      "yeah ! your answer is : 1\n",
      "the try block executed thanexception is no occurs\n"
     ]
    }
   ],
   "source": [
    "#Ans4- \n",
    "#a-try and else\n",
    "def divide(x,y):\n",
    "    try:\n",
    "        res=x//y\n",
    "        print(\"yeah ! your answer is :\",res)\n",
    "    except ZeroDivisionError:\n",
    "        print(\"sorry you are dividing by zero\")\n",
    "    else:\n",
    "        print(\"the try block executed thanexception is no occurs\")\n",
    "divide(3,2)\n",
    "\n",
    "    "
   ]
  },
  {
   "cell_type": "code",
   "execution_count": 6,
   "id": "e1c00bbf-a696-4409-a33d-385fee3ac85f",
   "metadata": {},
   "outputs": [
    {
     "name": "stdout",
     "output_type": "stream",
     "text": [
      "sorry you are dividing by zero\n"
     ]
    }
   ],
   "source": [
    "divide(3,0)"
   ]
  },
  {
   "cell_type": "code",
   "execution_count": 7,
   "id": "cf0c8a3d-1231-4274-8379-01ab6c345e7b",
   "metadata": {},
   "outputs": [
    {
     "name": "stdout",
     "output_type": "stream",
     "text": [
      "yeah ! your answer is : 1\n",
      "the try block executed thanexception is no occurs\n",
      "finally block is always executed\n"
     ]
    }
   ],
   "source": [
    "#Ans5-\n",
    "def divide(x,y):\n",
    "    try:\n",
    "        res=x//y\n",
    "        print(\"yeah ! your answer is :\",res)\n",
    "    except ZeroDivisionError:\n",
    "        print(\"sorry you are dividing by zero\")\n",
    "    else:\n",
    "        print(\"the try block executed thanexception is no occurs\")\n",
    "    finally:\n",
    "        print(\"finally block is always executed\")\n",
    "divide(3,2)\n"
   ]
  },
  {
   "cell_type": "code",
   "execution_count": 8,
   "id": "92dd7a89-324f-47a6-a449-e1a8908dc374",
   "metadata": {},
   "outputs": [
    {
     "name": "stdout",
     "output_type": "stream",
     "text": [
      "sorry you are dividing by zero\n",
      "finally block is always executed\n"
     ]
    }
   ],
   "source": [
    "divide(34,0)"
   ]
  },
  {
   "cell_type": "code",
   "execution_count": 9,
   "id": "82c8c58b-c52e-484c-9538-36ae806da464",
   "metadata": {},
   "outputs": [],
   "source": [
    "def handle_error():\n",
    "    try:\n",
    "        raise RuntimeError(\"oops!\")\n",
    "    except RuntimeError as error:\n",
    "        print(\"handled a runtime error no big deal\")\n",
    "    else:\n",
    "        print(\"if this print we had no error\")\n",
    "        \n",
    "    "
   ]
  },
  {
   "cell_type": "code",
   "execution_count": 10,
   "id": "12d42916-00c7-413f-b066-1b1e4b91a4e0",
   "metadata": {},
   "outputs": [
    {
     "name": "stdout",
     "output_type": "stream",
     "text": [
      "handled a runtime error no big deal\n"
     ]
    }
   ],
   "source": [
    "handle_error()"
   ]
  },
  {
   "cell_type": "code",
   "execution_count": 16,
   "id": "d3f83ae3-624e-4e43-86bb-d79934d8bfc3",
   "metadata": {},
   "outputs": [
    {
     "name": "stdin",
     "output_type": "stream",
     "text": [
      "enter your number sir 43\n"
     ]
    },
    {
     "name": "stdout",
     "output_type": "stream",
     "text": [
      "eligible to vote\n"
     ]
    }
   ],
   "source": [
    "#Ans6- definepyhton user define exception\n",
    "class InvalidAgeException(Exception):\n",
    "    \"Raised when the input value is less than 18\"\n",
    "    pass\n",
    "#you need to guess this number\n",
    "number=18\n",
    "try:\n",
    "    input_num=int(input(\"enter your number sir\"))\n",
    "    if input_num<number:\n",
    "        raise InvalidAgeException\n",
    "    else:\n",
    "        print(\"eligible to vote\")\n",
    "except InvalidAgeException:\n",
    "    print(\"exception occurs :invalid age\")\n"
   ]
  },
  {
   "cell_type": "code",
   "execution_count": null,
   "id": "4c3ba780-e46b-462b-823e-b64e6385991b",
   "metadata": {},
   "outputs": [],
   "source": []
  }
 ],
 "metadata": {
  "kernelspec": {
   "display_name": "Python 3 (ipykernel)",
   "language": "python",
   "name": "python3"
  },
  "language_info": {
   "codemirror_mode": {
    "name": "ipython",
    "version": 3
   },
   "file_extension": ".py",
   "mimetype": "text/x-python",
   "name": "python",
   "nbconvert_exporter": "python",
   "pygments_lexer": "ipython3",
   "version": "3.10.8"
  }
 },
 "nbformat": 4,
 "nbformat_minor": 5
}
